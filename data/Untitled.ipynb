{
 "cells": [
  {
   "cell_type": "code",
   "execution_count": 6,
   "metadata": {},
   "outputs": [],
   "source": [
    "import json\n",
    "import random\n",
    "f = open('abbreviation.json')\n",
    "data = json.load(f)"
   ]
  },
  {
   "cell_type": "code",
   "execution_count": 7,
   "metadata": {},
   "outputs": [],
   "source": [
    "key_list = list(data.keys())\n",
    "random.shuffle(key_list)"
   ]
  },
  {
   "cell_type": "code",
   "execution_count": 8,
   "metadata": {},
   "outputs": [],
   "source": [
    "train_key = key_list[:344]\n",
    "dev_key = key_list[344:344+115]\n",
    "test_key = key_list[344+115:]"
   ]
  },
  {
   "cell_type": "code",
   "execution_count": 14,
   "metadata": {},
   "outputs": [],
   "source": [
    "train_data = {}\n",
    "dev_data = {}\n",
    "test_data = {}\n",
    "for key in train_key:\n",
    "    train_data[key] = data[key]\n",
    "for key in dev_key:\n",
    "    dev_data[key] = data[key]\n",
    "for key in test_key:\n",
    "    test_data[key] = data[key]"
   ]
  },
  {
   "cell_type": "code",
   "execution_count": 17,
   "metadata": {},
   "outputs": [],
   "source": [
    "f_train = open('train.json','w')\n",
    "json.dump(train_data,f_train)\n",
    "f_train.close()\n",
    "\n",
    "f_dev = open('dev.json','w')\n",
    "json.dump(dev_data,f_dev)\n",
    "f_dev.close()\n",
    "\n",
    "f_test = open('test.json','w')\n",
    "json.dump(test_data,f_test)\n",
    "f_test.close()"
   ]
  },
  {
   "cell_type": "code",
   "execution_count": null,
   "metadata": {},
   "outputs": [],
   "source": []
  }
 ],
 "metadata": {
  "kernelspec": {
   "display_name": "Python 3",
   "language": "python",
   "name": "python3"
  },
  "language_info": {
   "codemirror_mode": {
    "name": "ipython",
    "version": 3
   },
   "file_extension": ".py",
   "mimetype": "text/x-python",
   "name": "python",
   "nbconvert_exporter": "python",
   "pygments_lexer": "ipython3",
   "version": "3.6.7"
  }
 },
 "nbformat": 4,
 "nbformat_minor": 2
}
